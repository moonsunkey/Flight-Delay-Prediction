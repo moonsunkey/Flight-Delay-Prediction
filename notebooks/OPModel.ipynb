{
 "cells": [
  {
   "cell_type": "code",
   "execution_count": 1,
   "metadata": {},
   "outputs": [],
   "source": [
    "import joblib"
   ]
  },
  {
   "cell_type": "code",
   "execution_count": 2,
   "metadata": {},
   "outputs": [
    {
     "name": "stderr",
     "output_type": "stream",
     "text": [
      "Downloading...\n",
      "From (original): https://drive.google.com/uc?id=1WClX4TtAVny-bz7AI1VNrqeGlnzyXiam\n",
      "From (redirected): https://drive.google.com/uc?id=1WClX4TtAVny-bz7AI1VNrqeGlnzyXiam&confirm=t&uuid=7f9894f8-1a44-4ff4-8d9f-f6c1b19af065\n",
      "To: /Users/jinluwang/Downloads/Do work here/Challenges/Flight Delay/predictive_flight_delays_2/notebooks/sampled_data_full.csv\n",
      "100%|██████████| 268M/268M [00:07<00:00, 33.7MB/s] \n"
     ]
    },
    {
     "data": {
      "text/html": [
       "<div>\n",
       "<style scoped>\n",
       "    .dataframe tbody tr th:only-of-type {\n",
       "        vertical-align: middle;\n",
       "    }\n",
       "\n",
       "    .dataframe tbody tr th {\n",
       "        vertical-align: top;\n",
       "    }\n",
       "\n",
       "    .dataframe thead th {\n",
       "        text-align: right;\n",
       "    }\n",
       "</style>\n",
       "<table border=\"1\" class=\"dataframe\">\n",
       "  <thead>\n",
       "    <tr style=\"text-align: right;\">\n",
       "      <th></th>\n",
       "      <th>MONTH</th>\n",
       "      <th>DAY_OF_WEEK</th>\n",
       "      <th>DEP_DEL15</th>\n",
       "      <th>DEP_TIME_BLK</th>\n",
       "      <th>DISTANCE_GROUP</th>\n",
       "      <th>SEGMENT_NUMBER</th>\n",
       "      <th>CONCURRENT_FLIGHTS</th>\n",
       "      <th>NUMBER_OF_SEATS</th>\n",
       "      <th>CARRIER_NAME</th>\n",
       "      <th>AIRPORT_FLIGHTS_MONTH</th>\n",
       "      <th>...</th>\n",
       "      <th>PLANE_AGE</th>\n",
       "      <th>DEPARTING_AIRPORT</th>\n",
       "      <th>LATITUDE</th>\n",
       "      <th>LONGITUDE</th>\n",
       "      <th>PREVIOUS_AIRPORT</th>\n",
       "      <th>PRCP</th>\n",
       "      <th>SNOW</th>\n",
       "      <th>SNWD</th>\n",
       "      <th>TMAX</th>\n",
       "      <th>AWND</th>\n",
       "    </tr>\n",
       "  </thead>\n",
       "  <tbody>\n",
       "    <tr>\n",
       "      <th>1297807</th>\n",
       "      <td>6</td>\n",
       "      <td>5</td>\n",
       "      <td>0</td>\n",
       "      <td>0800-0859</td>\n",
       "      <td>7</td>\n",
       "      <td>1</td>\n",
       "      <td>37</td>\n",
       "      <td>150</td>\n",
       "      <td>JetBlue Airways</td>\n",
       "      <td>12427</td>\n",
       "      <td>...</td>\n",
       "      <td>8</td>\n",
       "      <td>Logan International</td>\n",
       "      <td>42.364</td>\n",
       "      <td>-71.006</td>\n",
       "      <td>NONE</td>\n",
       "      <td>0.0</td>\n",
       "      <td>0.0</td>\n",
       "      <td>0.0</td>\n",
       "      <td>77.0</td>\n",
       "      <td>14.32</td>\n",
       "    </tr>\n",
       "    <tr>\n",
       "      <th>1297808</th>\n",
       "      <td>10</td>\n",
       "      <td>3</td>\n",
       "      <td>0</td>\n",
       "      <td>1100-1159</td>\n",
       "      <td>4</td>\n",
       "      <td>3</td>\n",
       "      <td>5</td>\n",
       "      <td>76</td>\n",
       "      <td>SkyWest Airlines Inc.</td>\n",
       "      <td>5961</td>\n",
       "      <td>...</td>\n",
       "      <td>0</td>\n",
       "      <td>Washington Dulles International</td>\n",
       "      <td>38.942</td>\n",
       "      <td>-77.458</td>\n",
       "      <td>Detroit Metro Wayne County</td>\n",
       "      <td>0.0</td>\n",
       "      <td>0.0</td>\n",
       "      <td>0.0</td>\n",
       "      <td>96.0</td>\n",
       "      <td>6.04</td>\n",
       "    </tr>\n",
       "    <tr>\n",
       "      <th>1297809</th>\n",
       "      <td>5</td>\n",
       "      <td>3</td>\n",
       "      <td>0</td>\n",
       "      <td>1900-1959</td>\n",
       "      <td>2</td>\n",
       "      <td>5</td>\n",
       "      <td>9</td>\n",
       "      <td>70</td>\n",
       "      <td>Comair Inc.</td>\n",
       "      <td>2558</td>\n",
       "      <td>...</td>\n",
       "      <td>15</td>\n",
       "      <td>Bradley International</td>\n",
       "      <td>41.939</td>\n",
       "      <td>-72.683</td>\n",
       "      <td>Ronald Reagan Washington National</td>\n",
       "      <td>0.0</td>\n",
       "      <td>0.0</td>\n",
       "      <td>0.0</td>\n",
       "      <td>68.0</td>\n",
       "      <td>6.93</td>\n",
       "    </tr>\n",
       "    <tr>\n",
       "      <th>1297810</th>\n",
       "      <td>6</td>\n",
       "      <td>3</td>\n",
       "      <td>1</td>\n",
       "      <td>0700-0759</td>\n",
       "      <td>4</td>\n",
       "      <td>2</td>\n",
       "      <td>45</td>\n",
       "      <td>76</td>\n",
       "      <td>SkyWest Airlines Inc.</td>\n",
       "      <td>21878</td>\n",
       "      <td>...</td>\n",
       "      <td>4</td>\n",
       "      <td>Stapleton International</td>\n",
       "      <td>39.774</td>\n",
       "      <td>-104.880</td>\n",
       "      <td>Billings Logan International</td>\n",
       "      <td>0.0</td>\n",
       "      <td>0.0</td>\n",
       "      <td>0.0</td>\n",
       "      <td>83.0</td>\n",
       "      <td>7.83</td>\n",
       "    </tr>\n",
       "    <tr>\n",
       "      <th>1297811</th>\n",
       "      <td>6</td>\n",
       "      <td>2</td>\n",
       "      <td>0</td>\n",
       "      <td>0700-0759</td>\n",
       "      <td>3</td>\n",
       "      <td>1</td>\n",
       "      <td>13</td>\n",
       "      <td>173</td>\n",
       "      <td>United Air Lines Inc.</td>\n",
       "      <td>4615</td>\n",
       "      <td>...</td>\n",
       "      <td>6</td>\n",
       "      <td>Kansas City International</td>\n",
       "      <td>39.298</td>\n",
       "      <td>-94.714</td>\n",
       "      <td>NONE</td>\n",
       "      <td>0.0</td>\n",
       "      <td>0.0</td>\n",
       "      <td>0.0</td>\n",
       "      <td>84.0</td>\n",
       "      <td>9.40</td>\n",
       "    </tr>\n",
       "  </tbody>\n",
       "</table>\n",
       "<p>5 rows × 26 columns</p>\n",
       "</div>"
      ],
      "text/plain": [
       "         MONTH  DAY_OF_WEEK  DEP_DEL15 DEP_TIME_BLK  DISTANCE_GROUP  \\\n",
       "1297807      6            5          0    0800-0859               7   \n",
       "1297808     10            3          0    1100-1159               4   \n",
       "1297809      5            3          0    1900-1959               2   \n",
       "1297810      6            3          1    0700-0759               4   \n",
       "1297811      6            2          0    0700-0759               3   \n",
       "\n",
       "         SEGMENT_NUMBER  CONCURRENT_FLIGHTS  NUMBER_OF_SEATS  \\\n",
       "1297807               1                  37              150   \n",
       "1297808               3                   5               76   \n",
       "1297809               5                   9               70   \n",
       "1297810               2                  45               76   \n",
       "1297811               1                  13              173   \n",
       "\n",
       "                  CARRIER_NAME  AIRPORT_FLIGHTS_MONTH  ...  PLANE_AGE  \\\n",
       "1297807        JetBlue Airways                  12427  ...          8   \n",
       "1297808  SkyWest Airlines Inc.                   5961  ...          0   \n",
       "1297809            Comair Inc.                   2558  ...         15   \n",
       "1297810  SkyWest Airlines Inc.                  21878  ...          4   \n",
       "1297811  United Air Lines Inc.                   4615  ...          6   \n",
       "\n",
       "                       DEPARTING_AIRPORT  LATITUDE  LONGITUDE  \\\n",
       "1297807              Logan International    42.364    -71.006   \n",
       "1297808  Washington Dulles International    38.942    -77.458   \n",
       "1297809            Bradley International    41.939    -72.683   \n",
       "1297810          Stapleton International    39.774   -104.880   \n",
       "1297811        Kansas City International    39.298    -94.714   \n",
       "\n",
       "                          PREVIOUS_AIRPORT  PRCP  SNOW SNWD  TMAX   AWND  \n",
       "1297807                               NONE   0.0   0.0  0.0  77.0  14.32  \n",
       "1297808         Detroit Metro Wayne County   0.0   0.0  0.0  96.0   6.04  \n",
       "1297809  Ronald Reagan Washington National   0.0   0.0  0.0  68.0   6.93  \n",
       "1297810       Billings Logan International   0.0   0.0  0.0  83.0   7.83  \n",
       "1297811                               NONE   0.0   0.0  0.0  84.0   9.40  \n",
       "\n",
       "[5 rows x 26 columns]"
      ]
     },
     "execution_count": 2,
     "metadata": {},
     "output_type": "execute_result"
    }
   ],
   "source": [
    "import gdown\n",
    "import pandas as pd\n",
    "\n",
    "# Define the URL of the CSV file\n",
    "file_id = '1WClX4TtAVny-bz7AI1VNrqeGlnzyXiam'\n",
    "url = f'https://drive.google.com/uc?id={file_id}'\n",
    "\n",
    "# Download the file using gdown\n",
    "output = 'sampled_data_full.csv'\n",
    "gdown.download(url, output, quiet=False)\n",
    "\n",
    "# Read the CSV file into a DataFrame\n",
    "df = pd.read_csv(output)\n",
    "\n",
    "# Display the last few rows of the DataFrame\n",
    "df.tail()"
   ]
  },
  {
   "cell_type": "code",
   "execution_count": 3,
   "metadata": {},
   "outputs": [],
   "source": [
    "import matplotlib.pyplot as plt\n",
    "import seaborn as sns\n",
    "from sklearn.metrics import confusion_matrix, classification_report\n",
    "from sklearn.preprocessing import OneHotEncoder, LabelEncoder"
   ]
  },
  {
   "cell_type": "code",
   "execution_count": 4,
   "metadata": {},
   "outputs": [
    {
     "name": "stdout",
     "output_type": "stream",
     "text": [
      "9\n"
     ]
    }
   ],
   "source": [
    "# Sample 20% of the data\n",
    "data_sample = df.sample(frac=0.2, random_state=42)\n",
    "\n",
    "# Define features and target\n",
    "features = ['MONTH', 'DAY_OF_WEEK', 'DEP_TIME_BLK',\n",
    "            'TMAX', 'AWND','AIRPORT_FLIGHTS_MONTH','AIRLINE_FLIGHTS_MONTH','AIRLINE_AIRPORT_FLIGHTS_MONTH','PRCP']\n",
    "print(len(features))\n",
    "# Prepare the data\n",
    "X = data_sample[features]\n",
    "y = data_sample['DEP_DEL15']"
   ]
  },
  {
   "cell_type": "code",
   "execution_count": 5,
   "metadata": {},
   "outputs": [
    {
     "data": {
      "text/html": [
       "<div>\n",
       "<style scoped>\n",
       "    .dataframe tbody tr th:only-of-type {\n",
       "        vertical-align: middle;\n",
       "    }\n",
       "\n",
       "    .dataframe tbody tr th {\n",
       "        vertical-align: top;\n",
       "    }\n",
       "\n",
       "    .dataframe thead th {\n",
       "        text-align: right;\n",
       "    }\n",
       "</style>\n",
       "<table border=\"1\" class=\"dataframe\">\n",
       "  <thead>\n",
       "    <tr style=\"text-align: right;\">\n",
       "      <th></th>\n",
       "      <th>MONTH</th>\n",
       "      <th>DAY_OF_WEEK</th>\n",
       "      <th>DEP_TIME_BLK</th>\n",
       "      <th>TMAX</th>\n",
       "      <th>AWND</th>\n",
       "      <th>AIRPORT_FLIGHTS_MONTH</th>\n",
       "      <th>AIRLINE_FLIGHTS_MONTH</th>\n",
       "      <th>AIRLINE_AIRPORT_FLIGHTS_MONTH</th>\n",
       "      <th>PRCP</th>\n",
       "    </tr>\n",
       "  </thead>\n",
       "  <tbody>\n",
       "    <tr>\n",
       "      <th>738784</th>\n",
       "      <td>8</td>\n",
       "      <td>4</td>\n",
       "      <td>1300-1359</td>\n",
       "      <td>92.0</td>\n",
       "      <td>3.13</td>\n",
       "      <td>15106</td>\n",
       "      <td>22671</td>\n",
       "      <td>1061</td>\n",
       "      <td>0.00</td>\n",
       "    </tr>\n",
       "    <tr>\n",
       "      <th>1222149</th>\n",
       "      <td>5</td>\n",
       "      <td>5</td>\n",
       "      <td>0800-0859</td>\n",
       "      <td>65.0</td>\n",
       "      <td>5.37</td>\n",
       "      <td>12849</td>\n",
       "      <td>113709</td>\n",
       "      <td>948</td>\n",
       "      <td>0.24</td>\n",
       "    </tr>\n",
       "    <tr>\n",
       "      <th>63596</th>\n",
       "      <td>1</td>\n",
       "      <td>4</td>\n",
       "      <td>1600-1659</td>\n",
       "      <td>44.0</td>\n",
       "      <td>4.70</td>\n",
       "      <td>6023</td>\n",
       "      <td>62105</td>\n",
       "      <td>559</td>\n",
       "      <td>0.00</td>\n",
       "    </tr>\n",
       "    <tr>\n",
       "      <th>1183182</th>\n",
       "      <td>7</td>\n",
       "      <td>6</td>\n",
       "      <td>0700-0759</td>\n",
       "      <td>89.0</td>\n",
       "      <td>7.83</td>\n",
       "      <td>1598</td>\n",
       "      <td>72721</td>\n",
       "      <td>731</td>\n",
       "      <td>0.00</td>\n",
       "    </tr>\n",
       "    <tr>\n",
       "      <th>1003874</th>\n",
       "      <td>3</td>\n",
       "      <td>7</td>\n",
       "      <td>1400-1459</td>\n",
       "      <td>62.0</td>\n",
       "      <td>14.32</td>\n",
       "      <td>1375</td>\n",
       "      <td>114119</td>\n",
       "      <td>535</td>\n",
       "      <td>0.00</td>\n",
       "    </tr>\n",
       "    <tr>\n",
       "      <th>...</th>\n",
       "      <td>...</td>\n",
       "      <td>...</td>\n",
       "      <td>...</td>\n",
       "      <td>...</td>\n",
       "      <td>...</td>\n",
       "      <td>...</td>\n",
       "      <td>...</td>\n",
       "      <td>...</td>\n",
       "      <td>...</td>\n",
       "    </tr>\n",
       "    <tr>\n",
       "      <th>918134</th>\n",
       "      <td>10</td>\n",
       "      <td>7</td>\n",
       "      <td>1000-1059</td>\n",
       "      <td>88.0</td>\n",
       "      <td>10.07</td>\n",
       "      <td>25833</td>\n",
       "      <td>71625</td>\n",
       "      <td>1405</td>\n",
       "      <td>0.97</td>\n",
       "    </tr>\n",
       "    <tr>\n",
       "      <th>772057</th>\n",
       "      <td>2</td>\n",
       "      <td>5</td>\n",
       "      <td>0600-0659</td>\n",
       "      <td>21.0</td>\n",
       "      <td>5.14</td>\n",
       "      <td>22752</td>\n",
       "      <td>43512</td>\n",
       "      <td>5161</td>\n",
       "      <td>0.02</td>\n",
       "    </tr>\n",
       "    <tr>\n",
       "      <th>51002</th>\n",
       "      <td>10</td>\n",
       "      <td>2</td>\n",
       "      <td>2000-2059</td>\n",
       "      <td>79.0</td>\n",
       "      <td>8.72</td>\n",
       "      <td>20449</td>\n",
       "      <td>24198</td>\n",
       "      <td>8189</td>\n",
       "      <td>0.57</td>\n",
       "    </tr>\n",
       "    <tr>\n",
       "      <th>375745</th>\n",
       "      <td>5</td>\n",
       "      <td>4</td>\n",
       "      <td>0800-0859</td>\n",
       "      <td>83.0</td>\n",
       "      <td>10.51</td>\n",
       "      <td>12037</td>\n",
       "      <td>22451</td>\n",
       "      <td>5958</td>\n",
       "      <td>0.00</td>\n",
       "    </tr>\n",
       "    <tr>\n",
       "      <th>207473</th>\n",
       "      <td>7</td>\n",
       "      <td>6</td>\n",
       "      <td>0900-0959</td>\n",
       "      <td>72.0</td>\n",
       "      <td>6.04</td>\n",
       "      <td>13781</td>\n",
       "      <td>24454</td>\n",
       "      <td>6465</td>\n",
       "      <td>0.00</td>\n",
       "    </tr>\n",
       "  </tbody>\n",
       "</table>\n",
       "<p>259562 rows × 9 columns</p>\n",
       "</div>"
      ],
      "text/plain": [
       "         MONTH  DAY_OF_WEEK DEP_TIME_BLK  TMAX   AWND  AIRPORT_FLIGHTS_MONTH  \\\n",
       "738784       8            4    1300-1359  92.0   3.13                  15106   \n",
       "1222149      5            5    0800-0859  65.0   5.37                  12849   \n",
       "63596        1            4    1600-1659  44.0   4.70                   6023   \n",
       "1183182      7            6    0700-0759  89.0   7.83                   1598   \n",
       "1003874      3            7    1400-1459  62.0  14.32                   1375   \n",
       "...        ...          ...          ...   ...    ...                    ...   \n",
       "918134      10            7    1000-1059  88.0  10.07                  25833   \n",
       "772057       2            5    0600-0659  21.0   5.14                  22752   \n",
       "51002       10            2    2000-2059  79.0   8.72                  20449   \n",
       "375745       5            4    0800-0859  83.0  10.51                  12037   \n",
       "207473       7            6    0900-0959  72.0   6.04                  13781   \n",
       "\n",
       "         AIRLINE_FLIGHTS_MONTH  AIRLINE_AIRPORT_FLIGHTS_MONTH  PRCP  \n",
       "738784                   22671                           1061  0.00  \n",
       "1222149                 113709                            948  0.24  \n",
       "63596                    62105                            559  0.00  \n",
       "1183182                  72721                            731  0.00  \n",
       "1003874                 114119                            535  0.00  \n",
       "...                        ...                            ...   ...  \n",
       "918134                   71625                           1405  0.97  \n",
       "772057                   43512                           5161  0.02  \n",
       "51002                    24198                           8189  0.57  \n",
       "375745                   22451                           5958  0.00  \n",
       "207473                   24454                           6465  0.00  \n",
       "\n",
       "[259562 rows x 9 columns]"
      ]
     },
     "execution_count": 5,
     "metadata": {},
     "output_type": "execute_result"
    }
   ],
   "source": [
    "data_sample[features]"
   ]
  },
  {
   "cell_type": "code",
   "execution_count": 6,
   "metadata": {},
   "outputs": [
    {
     "data": {
      "text/plain": [
       "Index(['MONTH', 'DAY_OF_WEEK', 'DEP_TIME_BLK', 'TMAX', 'AWND',\n",
       "       'AIRPORT_FLIGHTS_MONTH', 'AIRLINE_FLIGHTS_MONTH',\n",
       "       'AIRLINE_AIRPORT_FLIGHTS_MONTH', 'PRCP'],\n",
       "      dtype='object')"
      ]
     },
     "execution_count": 6,
     "metadata": {},
     "output_type": "execute_result"
    }
   ],
   "source": [
    "X.columns"
   ]
  },
  {
   "cell_type": "code",
   "execution_count": 7,
   "metadata": {},
   "outputs": [
    {
     "data": {
      "text/plain": [
       "MONTH                                    8\n",
       "DAY_OF_WEEK                              4\n",
       "DEP_TIME_BLK                     1300-1359\n",
       "TMAX                                  92.0\n",
       "AWND                                  3.13\n",
       "AIRPORT_FLIGHTS_MONTH                15106\n",
       "AIRLINE_FLIGHTS_MONTH                22671\n",
       "AIRLINE_AIRPORT_FLIGHTS_MONTH         1061\n",
       "PRCP                                   0.0\n",
       "Name: 738784, dtype: object"
      ]
     },
     "execution_count": 7,
     "metadata": {},
     "output_type": "execute_result"
    }
   ],
   "source": [
    "X.iloc[0]"
   ]
  },
  {
   "cell_type": "code",
   "execution_count": 8,
   "metadata": {},
   "outputs": [
    {
     "name": "stdout",
     "output_type": "stream",
     "text": [
      "<class 'pandas.core.frame.DataFrame'>\n",
      "Index: 259562 entries, 738784 to 207473\n",
      "Data columns (total 9 columns):\n",
      " #   Column                         Non-Null Count   Dtype  \n",
      "---  ------                         --------------   -----  \n",
      " 0   MONTH                          259562 non-null  int64  \n",
      " 1   DAY_OF_WEEK                    259562 non-null  int64  \n",
      " 2   DEP_TIME_BLK                   259562 non-null  object \n",
      " 3   TMAX                           259562 non-null  float64\n",
      " 4   AWND                           259562 non-null  float64\n",
      " 5   AIRPORT_FLIGHTS_MONTH          259562 non-null  int64  \n",
      " 6   AIRLINE_FLIGHTS_MONTH          259562 non-null  int64  \n",
      " 7   AIRLINE_AIRPORT_FLIGHTS_MONTH  259562 non-null  int64  \n",
      " 8   PRCP                           259562 non-null  float64\n",
      "dtypes: float64(3), int64(5), object(1)\n",
      "memory usage: 19.8+ MB\n"
     ]
    }
   ],
   "source": [
    "X.info()"
   ]
  },
  {
   "cell_type": "code",
   "execution_count": 9,
   "metadata": {},
   "outputs": [
    {
     "data": {
      "text/plain": [
       "['../trained_modules/label_encoder.pkl']"
      ]
     },
     "execution_count": 9,
     "metadata": {},
     "output_type": "execute_result"
    }
   ],
   "source": [
    "label_enc = LabelEncoder()\n",
    "encoded_time = label_enc.fit_transform(X['DEP_TIME_BLK'])\n",
    "joblib.dump(label_enc, \"../trained_modules/label_encoder.pkl\")"
   ]
  },
  {
   "cell_type": "code",
   "execution_count": 10,
   "metadata": {},
   "outputs": [],
   "source": [
    "X =X.drop(columns=[\"DEP_TIME_BLK\"])"
   ]
  },
  {
   "cell_type": "code",
   "execution_count": 11,
   "metadata": {},
   "outputs": [],
   "source": [
    "X[\"ENCODED_DEP_TIME_BLK\"] = encoded_time"
   ]
  },
  {
   "cell_type": "code",
   "execution_count": 12,
   "metadata": {},
   "outputs": [
    {
     "data": {
      "text/plain": [
       "MONTH                            0\n",
       "DAY_OF_WEEK                      0\n",
       "TMAX                             0\n",
       "AWND                             0\n",
       "AIRPORT_FLIGHTS_MONTH            0\n",
       "AIRLINE_FLIGHTS_MONTH            0\n",
       "AIRLINE_AIRPORT_FLIGHTS_MONTH    0\n",
       "PRCP                             0\n",
       "ENCODED_DEP_TIME_BLK             0\n",
       "dtype: int64"
      ]
     },
     "execution_count": 12,
     "metadata": {},
     "output_type": "execute_result"
    }
   ],
   "source": [
    "X.isna().sum()"
   ]
  },
  {
   "cell_type": "code",
   "execution_count": 13,
   "metadata": {},
   "outputs": [
    {
     "data": {
      "text/plain": [
       "Index(['MONTH', 'DAY_OF_WEEK', 'TMAX', 'AWND', 'AIRPORT_FLIGHTS_MONTH',\n",
       "       'AIRLINE_FLIGHTS_MONTH', 'AIRLINE_AIRPORT_FLIGHTS_MONTH', 'PRCP',\n",
       "       'ENCODED_DEP_TIME_BLK'],\n",
       "      dtype='object')"
      ]
     },
     "execution_count": 13,
     "metadata": {},
     "output_type": "execute_result"
    }
   ],
   "source": [
    "X.columns"
   ]
  },
  {
   "cell_type": "code",
   "execution_count": 14,
   "metadata": {},
   "outputs": [],
   "source": [
    "# Handle categorical variables\n",
    "# categorical_features = ['CARRIER_NAME', 'DEPARTING_AIRPORT', 'PREVIOUS_AIRPORT']\n",
    "# X = pd.get_dummies(X, columns=categorical_features, drop_first=True)\n",
    "\n",
    "# Handle 'DEP_TIME_BLK' separately\n",
    "# X['DEP_TIME_BLK'] = X['DEP_TIME_BLK'].astype('category').cat.codes\n",
    "\n",
    "# Make sure all columns are numeric\n",
    "# X = X.apply(pd.to_numeric, errors='coerce')\n",
    "\n",
    "# Drop any rows with NaN values\n",
    "# X.dropna(inplace=True)\n",
    "# y = y[X.index]"
   ]
  },
  {
   "cell_type": "code",
   "execution_count": 15,
   "metadata": {},
   "outputs": [],
   "source": [
    "# Use pandas for categorical to numerical conversion."
   ]
  },
  {
   "cell_type": "code",
   "execution_count": 16,
   "metadata": {},
   "outputs": [],
   "source": [
    "# Normalize the data\n",
    "from sklearn.preprocessing import StandardScaler\n",
    "scaler = StandardScaler()\n",
    "X_scaled = scaler.fit_transform(X)\n"
   ]
  },
  {
   "cell_type": "code",
   "execution_count": 17,
   "metadata": {},
   "outputs": [
    {
     "data": {
      "text/plain": [
       "['../trained_modules/standard_scaler.pkl']"
      ]
     },
     "execution_count": 17,
     "metadata": {},
     "output_type": "execute_result"
    }
   ],
   "source": [
    "joblib.dump(scaler, \"../trained_modules/standard_scaler.pkl\")"
   ]
  },
  {
   "cell_type": "code",
   "execution_count": 18,
   "metadata": {},
   "outputs": [
    {
     "data": {
      "text/plain": [
       "array(['MONTH', 'DAY_OF_WEEK', 'TMAX', 'AWND', 'AIRPORT_FLIGHTS_MONTH',\n",
       "       'AIRLINE_FLIGHTS_MONTH', 'AIRLINE_AIRPORT_FLIGHTS_MONTH', 'PRCP',\n",
       "       'ENCODED_DEP_TIME_BLK'], dtype=object)"
      ]
     },
     "execution_count": 18,
     "metadata": {},
     "output_type": "execute_result"
    }
   ],
   "source": [
    "scaler.get_feature_names_out()"
   ]
  },
  {
   "cell_type": "code",
   "execution_count": 19,
   "metadata": {},
   "outputs": [],
   "source": [
    "# Split the data\n",
    "from sklearn.model_selection import train_test_split\n",
    "X_train, X_test, y_train, y_test = train_test_split(X_scaled, y, test_size=0.2, random_state=42)"
   ]
  },
  {
   "cell_type": "code",
   "execution_count": 20,
   "metadata": {},
   "outputs": [
    {
     "name": "stderr",
     "output_type": "stream",
     "text": [
      "/Users/jinluwang/anaconda3/envs/mlenv/lib/python3.10/site-packages/keras/src/layers/core/dense.py:87: UserWarning: Do not pass an `input_shape`/`input_dim` argument to a layer. When using Sequential models, prefer using an `Input(shape)` object as the first layer in the model instead.\n",
      "  super().__init__(activity_regularizer=activity_regularizer, **kwargs)\n"
     ]
    }
   ],
   "source": [
    "# Build the TensorFlow Neural Network\n",
    "import tensorflow as tf\n",
    "model = tf.keras.Sequential([\n",
    "    tf.keras.layers.Dense(64, activation='relu', input_shape=(X_train.shape[1],)),\n",
    "    tf.keras.layers.Dense(64, activation='relu'),\n",
    "    tf.keras.layers.Dense(1, activation='sigmoid')\n",
    "])\n",
    "\n",
    "# Compile the model\n",
    "model.compile(optimizer='adam',\n",
    "              loss='binary_crossentropy',\n",
    "              metrics=['accuracy'])"
   ]
  },
  {
   "cell_type": "code",
   "execution_count": 21,
   "metadata": {},
   "outputs": [
    {
     "name": "stdout",
     "output_type": "stream",
     "text": [
      "Epoch 1/20\n",
      "\u001b[1m6490/6490\u001b[0m \u001b[32m━━━━━━━━━━━━━━━━━━━━\u001b[0m\u001b[37m\u001b[0m \u001b[1m3s\u001b[0m 422us/step - accuracy: 0.8088 - loss: 0.4677 - val_accuracy: 0.8153 - val_loss: 0.4542\n",
      "Epoch 2/20\n",
      "\u001b[1m6490/6490\u001b[0m \u001b[32m━━━━━━━━━━━━━━━━━━━━\u001b[0m\u001b[37m\u001b[0m \u001b[1m3s\u001b[0m 411us/step - accuracy: 0.8103 - loss: 0.4595 - val_accuracy: 0.8160 - val_loss: 0.4524\n",
      "Epoch 3/20\n",
      "\u001b[1m6490/6490\u001b[0m \u001b[32m━━━━━━━━━━━━━━━━━━━━\u001b[0m\u001b[37m\u001b[0m \u001b[1m3s\u001b[0m 415us/step - accuracy: 0.8111 - loss: 0.4582 - val_accuracy: 0.8163 - val_loss: 0.4518\n",
      "Epoch 4/20\n",
      "\u001b[1m6490/6490\u001b[0m \u001b[32m━━━━━━━━━━━━━━━━━━━━\u001b[0m\u001b[37m\u001b[0m \u001b[1m3s\u001b[0m 421us/step - accuracy: 0.8113 - loss: 0.4572 - val_accuracy: 0.8163 - val_loss: 0.4519\n",
      "Epoch 5/20\n",
      "\u001b[1m6490/6490\u001b[0m \u001b[32m━━━━━━━━━━━━━━━━━━━━\u001b[0m\u001b[37m\u001b[0m \u001b[1m3s\u001b[0m 416us/step - accuracy: 0.8126 - loss: 0.4556 - val_accuracy: 0.8150 - val_loss: 0.4512\n",
      "Epoch 6/20\n",
      "\u001b[1m6490/6490\u001b[0m \u001b[32m━━━━━━━━━━━━━━━━━━━━\u001b[0m\u001b[37m\u001b[0m \u001b[1m3s\u001b[0m 415us/step - accuracy: 0.8123 - loss: 0.4547 - val_accuracy: 0.8161 - val_loss: 0.4501\n",
      "Epoch 7/20\n",
      "\u001b[1m6490/6490\u001b[0m \u001b[32m━━━━━━━━━━━━━━━━━━━━\u001b[0m\u001b[37m\u001b[0m \u001b[1m3s\u001b[0m 408us/step - accuracy: 0.8126 - loss: 0.4547 - val_accuracy: 0.8162 - val_loss: 0.4515\n",
      "Epoch 8/20\n",
      "\u001b[1m6490/6490\u001b[0m \u001b[32m━━━━━━━━━━━━━━━━━━━━\u001b[0m\u001b[37m\u001b[0m \u001b[1m3s\u001b[0m 414us/step - accuracy: 0.8112 - loss: 0.4559 - val_accuracy: 0.8163 - val_loss: 0.4497\n",
      "Epoch 9/20\n",
      "\u001b[1m6490/6490\u001b[0m \u001b[32m━━━━━━━━━━━━━━━━━━━━\u001b[0m\u001b[37m\u001b[0m \u001b[1m3s\u001b[0m 414us/step - accuracy: 0.8127 - loss: 0.4531 - val_accuracy: 0.8165 - val_loss: 0.4498\n",
      "Epoch 10/20\n",
      "\u001b[1m6490/6490\u001b[0m \u001b[32m━━━━━━━━━━━━━━━━━━━━\u001b[0m\u001b[37m\u001b[0m \u001b[1m3s\u001b[0m 409us/step - accuracy: 0.8128 - loss: 0.4533 - val_accuracy: 0.8161 - val_loss: 0.4504\n",
      "Epoch 11/20\n",
      "\u001b[1m6490/6490\u001b[0m \u001b[32m━━━━━━━━━━━━━━━━━━━━\u001b[0m\u001b[37m\u001b[0m \u001b[1m3s\u001b[0m 409us/step - accuracy: 0.8116 - loss: 0.4541 - val_accuracy: 0.8163 - val_loss: 0.4500\n",
      "Epoch 12/20\n",
      "\u001b[1m6490/6490\u001b[0m \u001b[32m━━━━━━━━━━━━━━━━━━━━\u001b[0m\u001b[37m\u001b[0m \u001b[1m3s\u001b[0m 407us/step - accuracy: 0.8122 - loss: 0.4530 - val_accuracy: 0.8168 - val_loss: 0.4491\n",
      "Epoch 13/20\n",
      "\u001b[1m6490/6490\u001b[0m \u001b[32m━━━━━━━━━━━━━━━━━━━━\u001b[0m\u001b[37m\u001b[0m \u001b[1m3s\u001b[0m 432us/step - accuracy: 0.8125 - loss: 0.4524 - val_accuracy: 0.8164 - val_loss: 0.4492\n",
      "Epoch 14/20\n",
      "\u001b[1m6490/6490\u001b[0m \u001b[32m━━━━━━━━━━━━━━━━━━━━\u001b[0m\u001b[37m\u001b[0m \u001b[1m3s\u001b[0m 405us/step - accuracy: 0.8129 - loss: 0.4526 - val_accuracy: 0.8168 - val_loss: 0.4490\n",
      "Epoch 15/20\n",
      "\u001b[1m6490/6490\u001b[0m \u001b[32m━━━━━━━━━━━━━━━━━━━━\u001b[0m\u001b[37m\u001b[0m \u001b[1m3s\u001b[0m 412us/step - accuracy: 0.8136 - loss: 0.4497 - val_accuracy: 0.8157 - val_loss: 0.4499\n",
      "Epoch 16/20\n",
      "\u001b[1m6490/6490\u001b[0m \u001b[32m━━━━━━━━━━━━━━━━━━━━\u001b[0m\u001b[37m\u001b[0m \u001b[1m3s\u001b[0m 429us/step - accuracy: 0.8129 - loss: 0.4527 - val_accuracy: 0.8172 - val_loss: 0.4492\n",
      "Epoch 17/20\n",
      "\u001b[1m6490/6490\u001b[0m \u001b[32m━━━━━━━━━━━━━━━━━━━━\u001b[0m\u001b[37m\u001b[0m \u001b[1m3s\u001b[0m 420us/step - accuracy: 0.8126 - loss: 0.4509 - val_accuracy: 0.8169 - val_loss: 0.4493\n",
      "Epoch 18/20\n",
      "\u001b[1m6490/6490\u001b[0m \u001b[32m━━━━━━━━━━━━━━━━━━━━\u001b[0m\u001b[37m\u001b[0m \u001b[1m3s\u001b[0m 420us/step - accuracy: 0.8144 - loss: 0.4492 - val_accuracy: 0.8168 - val_loss: 0.4495\n",
      "Epoch 19/20\n",
      "\u001b[1m6490/6490\u001b[0m \u001b[32m━━━━━━━━━━━━━━━━━━━━\u001b[0m\u001b[37m\u001b[0m \u001b[1m3s\u001b[0m 426us/step - accuracy: 0.8124 - loss: 0.4520 - val_accuracy: 0.8168 - val_loss: 0.4492\n",
      "Epoch 20/20\n",
      "\u001b[1m6490/6490\u001b[0m \u001b[32m━━━━━━━━━━━━━━━━━━━━\u001b[0m\u001b[37m\u001b[0m \u001b[1m3s\u001b[0m 451us/step - accuracy: 0.8140 - loss: 0.4489 - val_accuracy: 0.8167 - val_loss: 0.4506\n"
     ]
    }
   ],
   "source": [
    "# Train the model\n",
    "history = model.fit(X_train, y_train, epochs=20, batch_size=32, validation_data=(X_test, y_test))"
   ]
  },
  {
   "cell_type": "code",
   "execution_count": 22,
   "metadata": {},
   "outputs": [
    {
     "name": "stdout",
     "output_type": "stream",
     "text": [
      "\u001b[1m1623/1623\u001b[0m \u001b[32m━━━━━━━━━━━━━━━━━━━━\u001b[0m\u001b[37m\u001b[0m \u001b[1m0s\u001b[0m 253us/step - accuracy: 0.8144 - loss: 0.4512\n",
      "\n",
      "Test accuracy: 0.8166740536689758\n"
     ]
    }
   ],
   "source": [
    "# Evaluate the model\n",
    "test_loss, test_acc = model.evaluate(X_test, y_test)\n",
    "print('\\nTest accuracy:', test_acc)"
   ]
  },
  {
   "cell_type": "code",
   "execution_count": 23,
   "metadata": {},
   "outputs": [
    {
     "name": "stdout",
     "output_type": "stream",
     "text": [
      "\u001b[1m1623/1623\u001b[0m \u001b[32m━━━━━━━━━━━━━━━━━━━━\u001b[0m\u001b[37m\u001b[0m \u001b[1m0s\u001b[0m 245us/step\n"
     ]
    }
   ],
   "source": [
    "# Predict the labels of the test set\n",
    "y_pred = (model.predict(X_test) > 0.5).astype(\"int32\")"
   ]
  },
  {
   "cell_type": "code",
   "execution_count": 24,
   "metadata": {},
   "outputs": [
    {
     "data": {
      "text/plain": [
       "['../trained_modules/tf_1.0.pkl']"
      ]
     },
     "execution_count": 24,
     "metadata": {},
     "output_type": "execute_result"
    }
   ],
   "source": [
    "joblib.dump(model, \"../trained_modules/tf_1.0.pkl\")"
   ]
  },
  {
   "cell_type": "code",
   "execution_count": null,
   "metadata": {},
   "outputs": [],
   "source": []
  }
 ],
 "metadata": {
  "kernelspec": {
   "display_name": "mlenv",
   "language": "python",
   "name": "python3"
  },
  "language_info": {
   "codemirror_mode": {
    "name": "ipython",
    "version": 3
   },
   "file_extension": ".py",
   "mimetype": "text/x-python",
   "name": "python",
   "nbconvert_exporter": "python",
   "pygments_lexer": "ipython3",
   "version": "3.10.14"
  }
 },
 "nbformat": 4,
 "nbformat_minor": 2
}
