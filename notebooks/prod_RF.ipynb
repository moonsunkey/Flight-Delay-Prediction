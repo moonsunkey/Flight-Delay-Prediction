{
 "cells": [
  {
   "cell_type": "code",
   "execution_count": 2,
   "id": "475020f1-98cb-4334-94cb-a66d58a1b19f",
   "metadata": {},
   "outputs": [
    {
     "name": "stdout",
     "output_type": "stream",
     "text": [
      "The likelihood of flight delay is 27.75%\n"
     ]
    }
   ],
   "source": [
    "import pandas as pd\n",
    "import joblib\n",
    "\n",
    "# Load the pre-trained model, scaler, and encoder\n",
    "model = joblib.load(\"../trained_modules_R/random_forest_model.pkl\")\n",
    "scaler = joblib.load(\"../trained_modules_R/standard_scaler.pkl\")\n",
    "label_encoders = joblib.load(\"../trained_modules_R/label_encoder.pkl\")\n",
    "\n",
    "# Example flight data for testing\n",
    "flight_data = {\n",
    "    'MONTH': 7,\n",
    "    'DAY_OF_WEEK': 3,\n",
    "    'TMAX': 85,\n",
    "    'AWND': 10,\n",
    "    'AIRPORT_FLIGHTS_MONTH': 12000,\n",
    "    'AIRLINE_FLIGHTS_MONTH': 2000,\n",
    "    'AIRLINE_AIRPORT_FLIGHTS_MONTH': 500,\n",
    "    'PRCP': 0.1,\n",
    "    'DEP_TIME_BLK': '0800-0859',\n",
    "    'origin_airport': 'San Francisco International (SFO)',\n",
    "    'carrier_name': 'Delta Air Lines Inc.'\n",
    "}\n",
    "\n",
    "# Data preparation function\n",
    "def dataprep(user_data):\n",
    "    user_data_df = pd.DataFrame([user_data])\n",
    "    for feature, le in label_encoders.items():\n",
    "        user_data_df[feature] = le.transform(user_data_df[feature])\n",
    "    user_data_df = user_data_df.drop(columns=['origin_airport', 'carrier_name'])  # Drop non-numeric columns\n",
    "    user_data_scaled = scaler.transform(user_data_df)\n",
    "    return user_data_scaled\n",
    "\n",
    "# Prepare the data\n",
    "prepped_data = dataprep(flight_data)\n",
    "\n",
    "# Make the prediction\n",
    "prediction_result = model.predict_proba(prepped_data) * 100\n",
    "delay_percentage = prediction_result[0][1]  # Probability of class 1 (delay)\n",
    "\n",
    "print(f\"The likelihood of flight delay is {delay_percentage:.2f}%\")\n"
   ]
  },
  {
   "cell_type": "code",
   "execution_count": null,
   "id": "09fdce82-e92b-4b8a-bc3c-6dedb9e3c07b",
   "metadata": {},
   "outputs": [],
   "source": []
  }
 ],
 "metadata": {
  "kernelspec": {
   "display_name": "Python 3 (ipykernel)",
   "language": "python",
   "name": "python3"
  },
  "language_info": {
   "codemirror_mode": {
    "name": "ipython",
    "version": 3
   },
   "file_extension": ".py",
   "mimetype": "text/x-python",
   "name": "python",
   "nbconvert_exporter": "python",
   "pygments_lexer": "ipython3",
   "version": "3.10.13"
  }
 },
 "nbformat": 4,
 "nbformat_minor": 5
}
